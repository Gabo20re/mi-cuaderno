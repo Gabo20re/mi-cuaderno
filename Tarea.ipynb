{
 "cells": [
  {
   "cell_type": "markdown",
   "metadata": {},
   "source": [
    "# Tarea\n"
   ]
  },
  {
   "cell_type": "markdown",
   "metadata": {},
   "source": [
    "# Introducción\n",
    "\n",
    "En este cuaderno, se presenta un análisis de datos utilizando **Python** y sus bibliotecas más comunes para la manipulación y visualización de datos, como **Pandas**, **Matplotlib** y **Seaborn**.\n",
    "\n",
    "## Objetivos del análisis\n",
    "\n",
    "El propósito de este análisis es:\n",
    "1. Explorar y comprender un conjunto de datos.\n",
    "2. Aplicar técnicas de limpieza y transformación de datos.\n",
    "3. Crear visualizaciones que permitan obtener información clave del conjunto de datos.\n",
    "4. Realizar un análisis estadístico básico para extraer conclusiones.\n",
    "\n",
    "> **Nota:** Este es un análisis exploratorio inicial y el propósito es identificar patrones y comportamientos en los datos.\n"
   ]
  },
  {
   "cell_type": "code",
   "execution_count": null,
   "metadata": {},
   "outputs": [],
   "source": []
  },
  {
   "cell_type": "markdown",
   "metadata": {},
   "source": [
    "# Introducción a los lenguajes de ciencia de datos\n",
    "\n",
    "La ciencia de datos es un campo interdisciplinario que utiliza diversos lenguajes de programación para analizar y procesar grandes volúmenes de datos. Algunos de los lenguajes más populares para la ciencia de datos son:\n",
    "\n",
    "## Lenguajes de programación más utilizados:\n",
    "1. **Python**: Es el lenguaje más popular debido a su sintaxis sencilla y las potentes bibliotecas como Pandas, NumPy, Matplotlib y Scikit-learn.\n",
    "2. **R**: Especializado en estadística y análisis de datos, ampliamente usado en la academia y en la industria.\n",
    "3. **SQL**: Lenguaje fundamental para la gestión de bases de datos y consultas estructuradas.\n",
    "4. **Julia**: Un lenguaje emergente con alto rendimiento para cálculos numéricos.\n",
    "5. **Java**: Aunque no es tan popular como Python, Java es usado en aplicaciones de big data y análisis a gran escala.\n",
    "\n"
   ]
  },
  {
   "cell_type": "markdown",
   "metadata": {},
   "source": []
  },
  {
   "cell_type": "markdown",
   "metadata": {},
   "source": [
    "# Bibliotecas populares en ciencia de datos\n",
    "\n",
    "La ciencia de datos se apoya en diversas bibliotecas de Python que facilitan el análisis y visualización de datos. Algunas de las bibliotecas más utilizadas son:\n",
    "\n",
    "## Bibliotecas principales:\n",
    "1. **Pandas**: Esencial para la manipulación y análisis de datos estructurados. Permite trabajar con DataFrames y realizar operaciones como agrupación, filtrado y transformación de datos.\n",
    "2. **NumPy**: Fundamental para el trabajo con arrays y operaciones matemáticas de alto rendimiento.\n",
    "3. **Matplotlib**: Utilizada para crear visualizaciones estáticas, como gráficos de barras, líneas y dispersión.\n",
    "4. **Seaborn**: Basada en Matplotlib, esta biblioteca simplifica la creación de gráficos estadísticos más atractivos visualmente.\n",
    "5. **Scikit-learn**: Proporciona herramientas para modelado de datos, como algoritmos de clasificación, regresión y clustering.\n"
   ]
  },
  {
   "cell_type": "markdown",
   "metadata": {},
   "source": []
  },
  {
   "cell_type": "markdown",
   "metadata": {},
   "source": [
    "# Herramientas de Ciencia de Datos\n",
    "\n",
    "En el campo de la ciencia de datos, existen diversas herramientas y tecnologías que facilitan el análisis y procesamiento de grandes volúmenes de datos. A continuación, se presenta una tabla con algunas de las herramientas más utilizadas.\n",
    "\n",
    "| Herramienta         | Descripción                                                                 | Tipo                 |\n",
    "|---------------------|-----------------------------------------------------------------------------|----------------------|\n",
    "| **Python**          | Lenguaje de programación versátil y muy utilizado en ciencia de datos.       | Lenguaje de Programación |\n",
    "| **Pandas**          | Biblioteca para manipulación y análisis de datos estructurados en Python.    | Biblioteca            |\n",
    "| **Jupyter Notebooks** | Herramienta interactiva para ejecutar código, visualizaciones y análisis.    | Entorno de desarrollo |\n",
    "| **Matplotlib**      | Biblioteca para crear visualizaciones estáticas.                             | Biblioteca            |\n",
    "| **Scikit-learn**    | Biblioteca para aprendizaje automático y análisis de datos.                 | Biblioteca            |\n",
    "| **TensorFlow**      | Framework de aprendizaje automático y redes neuronales profundas.           | Framework             |\n",
    "| **SQL**             | Lenguaje para la gestión de bases de datos relacionales.                     | Lenguaje de Consulta  |\n",
    "| **Hadoop**          | Framework para procesamiento de grandes volúmenes de datos (Big Data).      | Framework             |\n"
   ]
  },
  {
   "cell_type": "markdown",
   "metadata": {},
   "source": []
  },
  {
   "cell_type": "markdown",
   "metadata": {},
   "source": [
    "# Introducción a las expresiones aritméticas\n",
    "\n",
    "Las expresiones aritméticas son operaciones matemáticas que implican números y operadores, como la suma, la resta, la multiplicación y la división. A continuación, se presentan algunos ejemplos básicos de expresiones aritméticas en Python:\n",
    "\n",
    "- **Suma**: `5 + 3`\n",
    "- **Resta**: `10 - 4`\n",
    "- **Multiplicación**: `6 * 7`\n",
    "- **División**: `20 / 4`\n"
   ]
  },
  {
   "cell_type": "markdown",
   "metadata": {},
   "source": []
  },
  {
   "cell_type": "code",
   "execution_count": 2,
   "metadata": {},
   "outputs": [
    {
     "name": "stdout",
     "output_type": "stream",
     "text": [
      "Resultado de la multiplicación: 15\n",
      "Resultado de la suma: 8\n"
     ]
    }
   ],
   "source": [
    "# Multiplicar y sumar números en Python\n",
    "\n",
    "# Definir dos números\n",
    "numero1 = 5\n",
    "numero2 = 3\n",
    "\n",
    "# Realizar la multiplicación\n",
    "resultado_multiplicacion = numero1 * numero2\n",
    "\n",
    "# Realizar la suma\n",
    "resultado_suma = numero1 + numero2\n",
    "\n",
    "# Mostrar los resultados\n",
    "print(f\"Resultado de la multiplicación: {resultado_multiplicacion}\")\n",
    "print(f\"Resultado de la suma: {resultado_suma}\")\n"
   ]
  },
  {
   "cell_type": "code",
   "execution_count": 1,
   "metadata": {},
   "outputs": [
    {
     "name": "stdout",
     "output_type": "stream",
     "text": [
      "150 minutos equivalen a 2.5 horas.\n"
     ]
    }
   ],
   "source": [
    "# Convertir minutos a horas\n",
    "\n",
    "# Número de minutos\n",
    "minutos = 150\n",
    "\n",
    "# Convertir a horas\n",
    "horas = minutos / 60\n",
    "\n",
    "# Mostrar el resultado\n",
    "print(f\"{minutos} minutos equivalen a {horas} horas.\")\n"
   ]
  },
  {
   "cell_type": "markdown",
   "metadata": {},
   "source": [
    "# Objetivos del Proyecto\n",
    "\n",
    "Este proyecto tiene como objetivo principal proporcionar una introducción a la programación y las herramientas utilizadas en ciencia de datos. A continuación, se detallan los objetivos específicos del proyecto:\n",
    "\n",
    "- **Aprender a utilizar Jupyter Notebooks** para la programación en Python.\n",
    "- **Familiarizarse con el lenguaje de programación Python** y sus bibliotecas.\n",
    "- **Realizar operaciones matemáticas básicas** utilizando Python.\n",
    "- **Implementar herramientas de visualización** de datos en Python.\n",
    "- **Desarrollar habilidades en análisis de datos** con Python y otras herramientas.\n",
    "\n"
   ]
  },
  {
   "cell_type": "markdown",
   "metadata": {},
   "source": [
    "# Información del Autor\n",
    "\n",
    "Este cuaderno fue creado por **[Gabriel Orellana]**.\n",
    "\n",
    "- **Nombre del autor**: [Gabriel Orellana]\n",
    "- **Fecha**: [11/05/2024]\n",
    "- **Curso**: Ciencia de Datos / Python\n",
    "\n"
   ]
  },
  {
   "cell_type": "markdown",
   "metadata": {},
   "source": []
  }
 ],
 "metadata": {
  "kernelspec": {
   "display_name": "Python 3",
   "language": "python",
   "name": "python3"
  },
  "language_info": {
   "codemirror_mode": {
    "name": "ipython",
    "version": 3
   },
   "file_extension": ".py",
   "mimetype": "text/x-python",
   "name": "python",
   "nbconvert_exporter": "python",
   "pygments_lexer": "ipython3",
   "version": "3.12.0"
  }
 },
 "nbformat": 4,
 "nbformat_minor": 2
}
